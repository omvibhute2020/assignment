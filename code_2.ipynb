{
 "cells": [
  {
   "cell_type": "code",
   "execution_count": 265,
   "metadata": {},
   "outputs": [],
   "source": [
    "import pandas as pd \n",
    "import numpy as np\n",
    "import matplotlib.pyplot as plt "
   ]
  },
  {
   "cell_type": "code",
   "execution_count": 266,
   "metadata": {},
   "outputs": [
    {
     "name": "stdout",
     "output_type": "stream",
     "text": [
      "         BTC       ETH       ADA       SOL       DOT\n",
      "0   0.167712  0.887969  1.072365  1.283703  0.996624\n",
      "1   0.348572  0.058805  2.790230  2.446564  0.991082\n",
      "2   0.184274  0.171754 -0.064765  0.275033 -0.046525\n",
      "3  -0.088653  0.437387  0.097315  1.191040 -0.029412\n",
      "4  -0.383461 -0.190274  0.164819 -0.423154 -0.445979\n",
      "5  -0.037259 -0.200109 -0.212069  0.035387 -0.303043\n",
      "6   0.259031  0.167981 -0.018713 -0.028211  0.039448\n",
      "7   0.178641  0.262888  1.079027  2.221345  0.413138\n",
      "8  -0.119167 -0.170093 -0.254421  0.248846 -0.130740\n",
      "9   0.285015  0.306078 -0.133038  0.211789  0.336984\n",
      "10 -0.057216  0.036920 -0.184639  0.007698 -0.131634\n",
      "11 -0.176458 -0.191306 -0.122739 -0.249576 -0.252037\n",
      "12 -0.205896 -0.308888 -0.249275 -0.478921 -0.363986\n",
      "13 -0.012306  0.005463 -0.191698 -0.109193 -0.065206\n",
      "14  0.059150  0.137244  0.234555  0.222909  0.186243\n",
      "15 -0.152197 -0.141816 -0.295271 -0.235347 -0.242155\n",
      "16 -0.281969 -0.435813 -0.224452 -0.514130 -0.403480\n",
      "         BTC      ETH     ADA      SOL     DOT\n",
      "0   34317.82  1379.35  0.3637    4.218  16.560\n",
      "1   46191.39  1460.23  1.3190   13.190  33.490\n",
      "2   58781.54  1841.40  1.2130   19.100  33.970\n",
      "3   53581.58  2758.46  1.3080   42.550  35.970\n",
      "4   35662.59  2386.91  1.5760   28.600  20.460\n",
      "5   35901.41  2165.61  1.3710   33.940  16.260\n",
      "6   42231.83  2463.61  1.3110   32.380  15.810\n",
      "7   46993.31  3228.46  2.7360  110.170  26.030\n",
      "8   41539.43  2850.87  2.0660  135.300  27.260\n",
      "9   61891.91  4323.94  1.9550  195.910  42.730\n",
      "10  57839.55  4448.49  1.6030  204.220  37.140\n",
      "11  47129.66  3710.08  1.3580  172.530  27.540\n",
      "12  37908.44  2603.24  1.0360   93.320  18.190\n",
      "13  37714.96  2617.32  0.8568   85.660  17.490\n",
      "14  47056.41  3385.11  1.1890  120.640  22.420\n",
      "15  38594.22  2817.23  0.8048   93.930  16.180\n",
      "16  22471.59  1209.12  0.4637   28.540   7.027\n"
     ]
    }
   ],
   "source": [
    "coin_list = ['BTC','ETH','ADA','SOL','DOT']\n",
    "\n",
    "df_Returns = pd.DataFrame()\n",
    "df_Prices = pd.DataFrame()\n",
    "\n",
    "for i in coin_list:\n",
    "    coin_name = i\n",
    "    %run ./code_1.ipynb\n",
    "    df_Returns = pd.concat([df_Returns, Returns], axis=1)\n",
    "    df_Prices = pd.concat([df_Prices,T_day_OP], axis=1)\n",
    "\n",
    "df_Returns.columns = coin_list\n",
    "df_Prices.columns = coin_list\n",
    "\n",
    "print(df_Returns)\n",
    "print(df_Prices)"
   ]
  },
  {
   "cell_type": "code",
   "execution_count": 267,
   "metadata": {},
   "outputs": [],
   "source": [
    "#assuming we need to buy and sell only one unit\n",
    "\n",
    "Long_list_buying = df_Returns.idxmax(axis=1).to_numpy()\n",
    "Long_list_selling = np.delete(Long_list_buying,-1)\n",
    "\n",
    "\n",
    "Short_list_selling = df_Returns.idxmin(axis=1).to_numpy()\n",
    "Short_list_buying = np.delete(Short_list_selling,-1)\n",
    "\n",
    "#Long_list"
   ]
  },
  {
   "cell_type": "code",
   "execution_count": 268,
   "metadata": {},
   "outputs": [
    {
     "name": "stdout",
     "output_type": "stream",
     "text": [
      "1022638.2029999999\n",
      "[1000000.     1034313.602   989594.313   987736.239  1041316.511\n",
      " 1005701.405  1005668.836   963485.956  1057252.236  1015714.872\n",
      " 1015868.052  1011456.702  1015191.606   977359.332  1012372.1688\n",
      " 1062811.3108 1021401.4704 1022638.203 ]\n"
     ]
    }
   ],
   "source": [
    "# Set the initial capital\n",
    "init_capital = 1000000\n",
    "\n",
    "capital_checkpoints = np.array([init_capital])\n",
    "for index, row in df_Prices.iterrows():\n",
    "    \n",
    "    init_capital = init_capital - row[Long_list_buying[index]]\n",
    "    if(index>0):\n",
    "        init_capital = init_capital - row[Short_list_buying[index-1]]\n",
    "\n",
    "    init_capital = init_capital + row[Short_list_selling[index]]\n",
    "    if(index>0):\n",
    "        init_capital = init_capital + row[Long_list_selling[index-1]]\n",
    "\n",
    "    capital_checkpoints = np.append(capital_checkpoints,[init_capital])\n",
    "\n",
    "final_capital = init_capital\n",
    "print(init_capital)\n",
    "print(capital_checkpoints)"
   ]
  },
  {
   "cell_type": "code",
   "execution_count": 269,
   "metadata": {},
   "outputs": [
    {
     "name": "stdout",
     "output_type": "stream",
     "text": [
      "965682.1799999999\n",
      "[1000000.   1011873.57 1024463.72 1019263.76 1001344.77 1001583.59\n",
      " 1007914.01 1012675.49 1007221.61 1027574.09 1023521.73 1012811.84\n",
      " 1003590.62 1003397.14 1012738.59 1004276.4   988153.77  965682.18]\n"
     ]
    }
   ],
   "source": [
    "# only BTC Portfolio\n",
    "init_capital_BTC = 1000000\n",
    "capital_checkpoints_BTC = np.array([])\n",
    "\n",
    "for index, row in df_Prices.iterrows():\n",
    "    if(index>0):\n",
    "        init_capital_BTC = init_capital_BTC + row['BTC']\n",
    "    \n",
    "    capital_checkpoints_BTC = np.append(capital_checkpoints_BTC,[init_capital_BTC])\n",
    "\n",
    "    init_capital_BTC = init_capital_BTC - row['BTC']\n",
    "\n",
    "capital_checkpoints_BTC = np.append(capital_checkpoints_BTC,[init_capital_BTC])\n",
    "\n",
    "print(init_capital_BTC)\n",
    "print(capital_checkpoints_BTC)"
   ]
  },
  {
   "cell_type": "code",
   "execution_count": 270,
   "metadata": {},
   "outputs": [
    {
     "data": {
      "image/png": "[encoded data removed]",
      "text/plain": [
       "<Figure size 432x288 with 1 Axes>"
      ]
     },
     "metadata": {
      "needs_background": "light"
     },
     "output_type": "display_data"
    }
   ],
   "source": [
    "x = start_dates.to_numpy()\n",
    "\n",
    "plt.plot(x,capital_checkpoints, label = \"Portfolio\")\n",
    "plt.plot(x,capital_checkpoints_BTC, label = \"BTC\")\n",
    "plt.yticks([875000,900000,925000,950000,975000,1000000,1025000])\n",
    "# Show plot\n",
    "plt.legend()\n",
    "plt.show()"
   ]
  },
  {
   "cell_type": "markdown",
   "metadata": {},
   "source": [
    "Strategy can be improved by not going long and short on single units of the script. number of units should be decided by price ratio.\n",
    "Though strategy has better returns than BTC but has less sharp Ratio compared to BTC."
   ]
  }
 ],
 "metadata": {
  "interpreter": {
   "hash": "2a0cd66df47b1766b6e57c3bccbe617af2527ac4c799c954190befd7df80af49"
  },
  "kernelspec": {
   "display_name": "Python 3.9.12 64-bit",
   "language": "python",
   "name": "python3"
  },
  "language_info": {
   "codemirror_mode": {
    "name": "ipython",
    "version": 3
   },
   "file_extension": ".py",
   "mimetype": "text/x-python",
   "name": "python",
   "nbconvert_exporter": "python",
   "pygments_lexer": "ipython3",
   "version": "3.9.12"
  },
  "orig_nbformat": 4
 },
 "nbformat": 4,
 "nbformat_minor": 2
}
